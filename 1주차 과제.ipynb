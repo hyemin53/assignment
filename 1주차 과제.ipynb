{
  "nbformat": 4,
  "nbformat_minor": 0,
  "metadata": {
    "colab": {
      "name": "Untitled0.ipynb",
      "provenance": [],
      "collapsed_sections": [],
      "authorship_tag": "ABX9TyMmu9tjRIhZlic6Fh2zJsCf",
      "include_colab_link": true
    },
    "kernelspec": {
      "name": "python3",
      "display_name": "Python 3"
    }
  },
  "cells": [
    {
      "cell_type": "markdown",
      "metadata": {
        "id": "view-in-github",
        "colab_type": "text"
      },
      "source": [
        "<a href=\"https://colab.research.google.com/github/hyemin53/assignment/blob/master/Untitled0.ipynb\" target=\"_parent\"><img src=\"https://colab.research.google.com/assets/colab-badge.svg\" alt=\"Open In Colab\"/></a>"
      ]
    },
    {
      "cell_type": "markdown",
      "metadata": {
        "id": "7-taNCF2zrX6",
        "colab_type": "text"
      },
      "source": [
        "#1주차 과제\n",
        "* **언어 분야**에서의 인공지능  \n",
        " * 언어 분야에서의 인공지능은 구글 번역, 네이버 파파고 등 번역기를 예로 들 수 있다. 사람처럼 문장 전체를 이해하고 인식해서 번역하기 때문에 자연스럽다.\n",
        "\n",
        "* **음성 분야**의 인공지능\n",
        " * 음성 분야 인공지능의 대표적인 예로는 스마트폰 음성 기반 인공지능 비서인 삼성의 빅스비와 애플의 시리가 있다. 빅스비와 시리를 불러내어서 날씨를 알아낼 수도 있고 누군가에게 문자를 보낼 수도 있다.\n",
        "  * 목소리 재현에도 인공지능이 사용된다. 최근 <VR 휴먼다큐멘터리-너를 만났다>에서 엄마가 3년 전에 세상을 떠난 딸(나연이)과 가상현실에서 이야기하는 장면이 나오는데 나연이의 목소리는 AI 음성합성 기술진들에 의해 재현되었다고 한다. [VR 휴먼다큐멘터리-너를 만났다](https://www.youtube.com/watch?v=uflTK8c4w0c&t=60s)\n",
        "\n",
        "* **이미지 분야**에서의 인공지능  \n",
        " * 이미지 분야 인공지능에는 네이버의 스마트렌즈가 있다. 이 스마트렌즈를 통해 책의 표지를 찍으면 그 책의 가격과 함께 구매가 가능한 링크가 뜨고, 꽃을 찍으면 그 꽃의 이름을 알 수 있다.\n",
        "\n",
        "* **자율 주행 분야**에서의 인공지능  \n",
        " * 자율 주행 분야에서의 인공지능에는 로봇청소기가 있다. 여러 가지 센서를 통해 장애물을 감지하고 자신의 위치를 파악하여 청소를 하지 않은 구역을 판단한다."
      ]
    }
  ]
}
